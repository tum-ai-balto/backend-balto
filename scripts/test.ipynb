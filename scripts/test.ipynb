{
 "cells": [
  {
   "cell_type": "code",
   "execution_count": 5,
   "metadata": {},
   "outputs": [
    {
     "name": "stdout",
     "output_type": "stream",
     "text": [
      "Me reuní con el cliente, el Sr. Dennis Huff, quien es el supervisor de mantenimiento, para realizar una entrevista de entrada. Me informó que la máquina había estado inactiva durante aproximadamente una hora, por lo que pude inspeccionar algunos elementos antes de que volviera a producir pared doble B/E. Verifiqué el rodillo corrugado inferior y encontré su número W-76702, pero el otro rodillo tenía mucho depósito que obstruía su número. Tomé NCR's para medir la paralelismo de los rodillos corrugados. El contador de longitud mostró 66,781,034 millones de pies lineales. También revisé brevemente la condición del rodillo. Hablé con el departamento de mantenimiento sobre lo que habían hecho en las últimas dos semanas para solucionar algunos problemas con la máquina. Me dijeron que tuvieron que ajustar la paralelismo del rodillo corrugado varias veces y que el desgaste de la ranura del rodillo estaba desalineado a temperatura ambiente. Verifiqué la alineación de los rodillos corrugados en condición caliente y encontré una clara desalineación. El patrón de desgaste en el rodillo corrugado inferior se desplazó unos dos milímetros. Programé enfriar la máquina para el mantenimiento PM semanal. Examiné los rodillos corrugados y vi una pérdida significativa de plaqueta en las puntas y el radio de la raíz de los rodillos. Los NCR's mostraron impresiones más grandes de lo esperado para la longitud en los contadores. También había un patrón evidente de desgaste promedio de ancho de papel en los rodillos. Cuando apliqué 90 bares a los rodillos, vi que no había contacto en ambos lados del ancho durante unos 10 pulgadas, centrado a 18 pulgadas de los extremos de los rodillos. El desplazamiento de los rodillos corrugados fue evidente en las marcas de NCR's. Las muestras de resonancia segunda mostraron ondulaciones malformadas.\n"
     ]
    }
   ],
   "source": [
    "text = bytes(\"Me reun\\u00ed con el cliente, el Sr. Dennis Huff, quien es el supervisor de mantenimiento, para realizar una entrevista de entrada. Me inform\\u00f3 que la m\\u00e1quina hab\\u00eda estado inactiva durante aproximadamente una hora, por lo que pude inspeccionar algunos elementos antes de que volviera a producir pared doble B/E. Verifiqu\\u00e9 el rodillo corrugado inferior y encontr\\u00e9 su n\\u00famero W-76702, pero el otro rodillo ten\\u00eda mucho dep\\u00f3sito que obstru\\u00eda su n\\u00famero. Tom\\u00e9 NCR's para medir la paralelismo de los rodillos corrugados. El contador de longitud mostr\\u00f3 66,781,034 millones de pies lineales. Tambi\\u00e9n revis\\u00e9 brevemente la condici\\u00f3n del rodillo. Habl\\u00e9 con el departamento de mantenimiento sobre lo que hab\\u00edan hecho en las \\u00faltimas dos semanas para solucionar algunos problemas con la m\\u00e1quina. Me dijeron que tuvieron que ajustar la paralelismo del rodillo corrugado varias veces y que el desgaste de la ranura del rodillo estaba desalineado a temperatura ambiente. Verifiqu\\u00e9 la alineaci\\u00f3n de los rodillos corrugados en condici\\u00f3n caliente y encontr\\u00e9 una clara desalineaci\\u00f3n. El patr\\u00f3n de desgaste en el rodillo corrugado inferior se desplaz\\u00f3 unos dos mil\\u00edmetros. Program\\u00e9 enfriar la m\\u00e1quina para el mantenimiento PM semanal. Examin\\u00e9 los rodillos corrugados y vi una p\\u00e9rdida significativa de plaqueta en las puntas y el radio de la ra\\u00edz de los rodillos. Los NCR's mostraron impresiones m\\u00e1s grandes de lo esperado para la longitud en los contadores. Tambi\\u00e9n hab\\u00eda un patr\\u00f3n evidente de desgaste promedio de ancho de papel en los rodillos. Cuando apliqu\\u00e9 90 bares a los rodillos, vi que no hab\\u00eda contacto en ambos lados del ancho durante unos 10 pulgadas, centrado a 18 pulgadas de los extremos de los rodillos. El desplazamiento de los rodillos corrugados fue evidente en las marcas de NCR's. Las muestras de resonancia segunda mostraron ondulaciones malformadas.\", encoding='utf-8')\n",
    "\n",
    "print(text.decode('utf-8'))"
   ]
  },
  {
   "cell_type": "code",
   "execution_count": null,
   "metadata": {},
   "outputs": [],
   "source": []
  }
 ],
 "metadata": {
  "language_info": {
   "name": "python"
  },
  "orig_nbformat": 4
 },
 "nbformat": 4,
 "nbformat_minor": 2
}
